{
 "cells": [
  {
   "cell_type": "code",
   "execution_count": 1,
   "metadata": {},
   "outputs": [],
   "source": [
    "#install.packages('/users/soumyak/QuASAR_0.1.tar.gz')\n",
    "library('QuASAR')"
   ]
  },
  {
   "cell_type": "code",
   "execution_count": null,
   "metadata": {},
   "outputs": [],
   "source": [
    "indirs <- list.dirs('/oak/stanford/groups/akundaje/projects/alzheimers_parkinsons/allelic_imbalance/quasar/input', recursive=FALSE)\n",
    "for (dir in indirs) {\n",
    "    patient <- gsub(\".*/\", \"\", dir)\n",
    "    print(patient)\n",
    "    output.names <- gsub(\".quasar.in.gz\", \"\", list.files(dir))\n",
    "    print(output.names)\n",
    "    fileNames <- paste0(dir, '/', list.files(dir))\n",
    "    ase.dat <- UnionExtractFields(fileNames, combine=TRUE)\n",
    "    ase.dat.gt <- PrepForGenotyping(ase.dat, min.coverage=5)\n",
    "    #str(ase.dat.gt)\n",
    "    sample.names <- colnames(ase.dat.gt$ref)\n",
    "    ase.joint <- fitAseNullMulti(ase.dat.gt$ref, ase.dat.gt$alt, log.gmat=log(ase.dat.gt$gmat))\n",
    "    #str(ase.joint)\n",
    "    #head(ase.joint$gt)\n",
    "    out_dat <- data.frame(ase.dat.gt$annotations[, -5], map=ase.joint$gt)\n",
    "    outfile <- paste0('/oak/stanford/groups/akundaje/projects/alzheimers_parkinsons/allelic_imbalance/quasar/output/', patient, '/genotypes.txt')\n",
    "    write.table(out_dat, file=outfile, row.names=FALSE, col.names=TRUE, quote=FALSE, sep=\"\\t\")\n",
    "    print(outfile)\n",
    "    ourInferenceData <- aseInference(gts=ase.joint$gt, eps.vect=ase.joint$eps, priors=ase.dat.gt$gmat, ref.mat=ase.dat.gt$ref, alt.mat=ase.dat.gt$alt, min.cov=10, sample.names=sample.names, annos=ase.dat.gt$annotations)\n",
    "    for (i in seq_along(ourInferenceData)) {\n",
    "        outfile <- paste0('/oak/stanford/groups/akundaje/projects/alzheimers_parkinsons/allelic_imbalance/quasar/output/', patient, '/', output.names[i], '.inference.txt')\n",
    "        print(outfile)\n",
    "        #print(ourInferenceData[[i]]$dat[order(ourInferenceData[[i]]$dat$pval2.het.ind.),])\n",
    "        write.table(ourInferenceData[[i]]$dat[order(ourInferenceData[[i]]$dat$pval2.het.ind.),], file=outfile, row.names=FALSE, col.names=TRUE, quote=FALSE, sep=\"\\t\")\n",
    "    }\n",
    "}"
   ]
  }
 ],
 "metadata": {
  "kernelspec": {
   "display_name": "R",
   "language": "R",
   "name": "ir"
  },
  "language_info": {
   "codemirror_mode": "r",
   "file_extension": ".r",
   "mimetype": "text/x-r-source",
   "name": "R",
   "pygments_lexer": "r",
   "version": "3.5.1"
  }
 },
 "nbformat": 4,
 "nbformat_minor": 4
}
